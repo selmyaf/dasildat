{
  "nbformat": 4,
  "nbformat_minor": 0,
  "metadata": {
    "colab": {
      "provenance": []
    },
    "kernelspec": {
      "name": "python3",
      "display_name": "Python 3"
    },
    "language_info": {
      "name": "python"
    }
  },
  "cells": [
    {
      "cell_type": "code",
      "execution_count": 1,
      "metadata": {
        "colab": {
          "base_uri": "https://localhost:8080/"
        },
        "id": "tatVeP2coQCr",
        "outputId": "e69c8278-8522-49f0-ab73-bbf1cf2b8a3e"
      },
      "outputs": [
        {
          "output_type": "stream",
          "name": "stdout",
          "text": [
            "Mounted at /content/drive\n"
          ]
        }
      ],
      "source": [
        "import pandas as pd\n",
        "import numpy as np\n",
        "from sklearn.model_selection import train_test_split\n",
        "from sklearn.preprocessing import StandardScaler\n",
        "from sklearn.svm import SVC\n",
        "from sklearn.metrics import accuracy_score, confusion_matrix, classification_report, ConfusionMatrixDisplay\n",
        "from sklearn.experimental import enable_halving_search_cv  # noqa\n",
        "from sklearn.model_selection import HalvingGridSearchCV\n",
        "import joblib\n",
        "from google.colab import files\n",
        "import matplotlib.pyplot as plt\n",
        "\n",
        "# Load dataset\n",
        "from google.colab import drive\n",
        "drive.mount('/content/drive')\n",
        "\n",
        "file_path = '/content/drive/My Drive/dasildat/bank.csv'\n",
        "df = pd.read_csv(file_path)"
      ]
    },
    {
      "cell_type": "code",
      "source": [
        "# Duplikat\n",
        "df = df.drop_duplicates()\n",
        "# Label Encoding\n",
        "categorical_columns = df.select_dtypes(include=['object']).columns\n",
        "for column in categorical_columns:\n",
        "    df[column] = df[column].astype('category')\n",
        "df_encoded = pd.get_dummies(df, drop_first=True)"
      ],
      "metadata": {
        "id": "gicTH8dcv_VW"
      },
      "execution_count": 2,
      "outputs": []
    },
    {
      "cell_type": "code",
      "source": [
        "# Feature dan Label\n",
        "target = 'deposit_yes'\n",
        "features = df_encoded.drop(columns=[target])\n",
        "# Split data\n",
        "X_train, X_test, y_train, y_test = train_test_split(features,\n",
        "            df_encoded[target], test_size=0.2, random_state=42)\n",
        "# Feature Scalling\n",
        "scaler = StandardScaler()\n",
        "X_train_scaled = scaler.fit_transform(X_train)\n",
        "X_test_scaled = scaler.transform(X_test)"
      ],
      "metadata": {
        "id": "LQj1yH2wwFqY"
      },
      "execution_count": 3,
      "outputs": []
    },
    {
      "cell_type": "markdown",
      "source": [],
      "metadata": {
        "id": "oCwsGUpEK36s"
      }
    },
    {
      "cell_type": "code",
      "source": [
        "# Define parameter range\n",
        "param_grid = [\n",
        "    {'C': [10, 100, 1000], 'gamma': [0.01, 0.001], 'kernel': ['rbf']}\n",
        "]\n",
        "\n",
        "# Define the HalvingGridSearchCV\n",
        "classifier = HalvingGridSearchCV(SVC(), param_grid, scoring='recall', cv=5, refit=True, verbose=3)\n",
        "\n",
        "# Fitting the model for grid search\n",
        "classifier.fit(X_train_scaled, y_train)\n",
        "\n",
        "# Print best parameter after tuning\n",
        "print('Parameter terbaik:', classifier.best_params_)\n",
        "\n",
        "# Print how our model looks after hyper-parameter tuning\n",
        "print(classifier.best_estimator_)"
      ],
      "metadata": {
        "id": "Pob7avmCx_fq",
        "outputId": "3829f3ab-021f-475c-a5a8-2576d71b1e9d",
        "colab": {
          "base_uri": "https://localhost:8080/"
        }
      },
      "execution_count": 4,
      "outputs": [
        {
          "output_type": "stream",
          "name": "stdout",
          "text": [
            "n_iterations: 2\n",
            "n_required_iterations: 2\n",
            "n_possible_iterations: 2\n",
            "min_resources_: 2976\n",
            "max_resources_: 8929\n",
            "aggressive_elimination: False\n",
            "factor: 3\n",
            "----------\n",
            "iter: 0\n",
            "n_candidates: 6\n",
            "n_resources: 2976\n",
            "Fitting 5 folds for each of 6 candidates, totalling 30 fits\n",
            "[CV 1/5] END C=10, gamma=0.01, kernel=rbf;, score=(train=0.900, test=0.828) total time=   0.4s\n",
            "[CV 2/5] END C=10, gamma=0.01, kernel=rbf;, score=(train=0.922, test=0.808) total time=   0.3s\n",
            "[CV 3/5] END C=10, gamma=0.01, kernel=rbf;, score=(train=0.916, test=0.779) total time=   0.3s\n",
            "[CV 4/5] END C=10, gamma=0.01, kernel=rbf;, score=(train=0.929, test=0.828) total time=   0.3s\n",
            "[CV 5/5] END C=10, gamma=0.01, kernel=rbf;, score=(train=0.906, test=0.871) total time=   0.3s\n",
            "[CV 1/5] END C=10, gamma=0.001, kernel=rbf;, score=(train=0.789, test=0.818) total time=   0.3s\n",
            "[CV 2/5] END C=10, gamma=0.001, kernel=rbf;, score=(train=0.810, test=0.818) total time=   0.3s\n",
            "[CV 3/5] END C=10, gamma=0.001, kernel=rbf;, score=(train=0.805, test=0.746) total time=   0.3s\n",
            "[CV 4/5] END C=10, gamma=0.001, kernel=rbf;, score=(train=0.818, test=0.801) total time=   0.3s\n",
            "[CV 5/5] END C=10, gamma=0.001, kernel=rbf;, score=(train=0.798, test=0.825) total time=   0.3s\n",
            "[CV 1/5] END C=100, gamma=0.01, kernel=rbf;, score=(train=0.962, test=0.804) total time=   0.5s\n",
            "[CV 2/5] END C=100, gamma=0.01, kernel=rbf;, score=(train=0.970, test=0.783) total time=   0.7s\n",
            "[CV 3/5] END C=100, gamma=0.01, kernel=rbf;, score=(train=0.953, test=0.732) total time=   0.8s\n",
            "[CV 4/5] END C=100, gamma=0.01, kernel=rbf;, score=(train=0.965, test=0.818) total time=   0.8s\n",
            "[CV 5/5] END C=100, gamma=0.01, kernel=rbf;, score=(train=0.958, test=0.853) total time=   0.8s\n",
            "[CV 1/5] END C=100, gamma=0.001, kernel=rbf;, score=(train=0.843, test=0.839) total time=   0.4s\n",
            "[CV 2/5] END C=100, gamma=0.001, kernel=rbf;, score=(train=0.862, test=0.832) total time=   0.3s\n",
            "[CV 3/5] END C=100, gamma=0.001, kernel=rbf;, score=(train=0.862, test=0.764) total time=   0.3s\n",
            "[CV 4/5] END C=100, gamma=0.001, kernel=rbf;, score=(train=0.869, test=0.821) total time=   0.3s\n",
            "[CV 5/5] END C=100, gamma=0.001, kernel=rbf;, score=(train=0.853, test=0.860) total time=   0.3s\n",
            "[CV 1/5] END C=1000, gamma=0.01, kernel=rbf;, score=(train=0.987, test=0.789) total time=   0.9s\n",
            "[CV 2/5] END C=1000, gamma=0.01, kernel=rbf;, score=(train=0.987, test=0.720) total time=   0.9s\n",
            "[CV 3/5] END C=1000, gamma=0.01, kernel=rbf;, score=(train=0.989, test=0.721) total time=   1.0s\n",
            "[CV 4/5] END C=1000, gamma=0.01, kernel=rbf;, score=(train=0.985, test=0.791) total time=   0.9s\n",
            "[CV 5/5] END C=1000, gamma=0.01, kernel=rbf;, score=(train=0.986, test=0.804) total time=   1.0s\n",
            "[CV 1/5] END C=1000, gamma=0.001, kernel=rbf;, score=(train=0.904, test=0.825) total time=   0.7s\n",
            "[CV 2/5] END C=1000, gamma=0.001, kernel=rbf;, score=(train=0.918, test=0.815) total time=   0.7s\n",
            "[CV 3/5] END C=1000, gamma=0.001, kernel=rbf;, score=(train=0.912, test=0.786) total time=   1.4s\n",
            "[CV 4/5] END C=1000, gamma=0.001, kernel=rbf;, score=(train=0.928, test=0.844) total time=   1.1s\n",
            "[CV 5/5] END C=1000, gamma=0.001, kernel=rbf;, score=(train=0.902, test=0.853) total time=   1.2s\n",
            "----------\n",
            "iter: 1\n",
            "n_candidates: 2\n",
            "n_resources: 8928\n",
            "Fitting 5 folds for each of 2 candidates, totalling 10 fits\n",
            "[CV 1/5] END C=100, gamma=0.001, kernel=rbf;, score=(train=0.867, test=0.858) total time=   3.1s\n",
            "[CV 2/5] END C=100, gamma=0.001, kernel=rbf;, score=(train=0.876, test=0.857) total time=   3.1s\n",
            "[CV 3/5] END C=100, gamma=0.001, kernel=rbf;, score=(train=0.872, test=0.834) total time=   4.7s\n",
            "[CV 4/5] END C=100, gamma=0.001, kernel=rbf;, score=(train=0.873, test=0.846) total time=   3.2s\n",
            "[CV 5/5] END C=100, gamma=0.001, kernel=rbf;, score=(train=0.869, test=0.846) total time=   3.0s\n",
            "[CV 1/5] END C=1000, gamma=0.001, kernel=rbf;, score=(train=0.905, test=0.849) total time=   7.2s\n",
            "[CV 2/5] END C=1000, gamma=0.001, kernel=rbf;, score=(train=0.904, test=0.868) total time=   8.0s\n",
            "[CV 3/5] END C=1000, gamma=0.001, kernel=rbf;, score=(train=0.909, test=0.847) total time=   7.1s\n",
            "[CV 4/5] END C=1000, gamma=0.001, kernel=rbf;, score=(train=0.909, test=0.846) total time=  13.3s\n",
            "[CV 5/5] END C=1000, gamma=0.001, kernel=rbf;, score=(train=0.905, test=0.846) total time=   7.2s\n",
            "Parameter terbaik: {'C': 1000, 'gamma': 0.001, 'kernel': 'rbf'}\n",
            "SVC(C=1000, gamma=0.001)\n"
          ]
        }
      ]
    },
    {
      "cell_type": "code",
      "source": [
        "# Save model\n",
        "joblib.dump(classifier.best_estimator_, 'svm_model.joblib')\n",
        "\n",
        "# Load the saved model\n",
        "loaded_model = joblib.load('svm_model.joblib')\n",
        "\n",
        "# Evaluate the loaded model\n",
        "result_loaded = loaded_model.score(X_test_scaled, y_test)\n",
        "print(f'Hasil model menggunakan model yang sudah disimpan: {result_loaded}')"
      ],
      "metadata": {
        "id": "VZg2955iyFIw",
        "outputId": "f7316397-3588-44fc-bee2-255256c9a9a4",
        "colab": {
          "base_uri": "https://localhost:8080/"
        }
      },
      "execution_count": 5,
      "outputs": [
        {
          "output_type": "stream",
          "name": "stdout",
          "text": [
            "Hasil model menggunakan model yang sudah disimpan: 0.8392297357814599\n"
          ]
        }
      ]
    },
    {
      "cell_type": "code",
      "source": [
        "y_pred_svm = loaded_model.predict(X_test_scaled)\n",
        "\n",
        "# Calculate accuracy\n",
        "accuracy_svm = accuracy_score(y_test, y_pred_svm)\n",
        "print(f\"SVM Accuracy: {accuracy_svm}\")\n",
        "\n",
        "# Confusion matrix\n",
        "conf_matrix_svm = confusion_matrix(y_test, y_pred_svm)\n",
        "print(\"SVM Confusion Matrix:\")\n",
        "print(conf_matrix_svm)"
      ],
      "metadata": {
        "colab": {
          "base_uri": "https://localhost:8080/"
        },
        "id": "q8JsdTlryU2y",
        "outputId": "229faede-02a9-4e58-ccd8-57cc1dfd3515"
      },
      "execution_count": 6,
      "outputs": [
        {
          "output_type": "stream",
          "name": "stdout",
          "text": [
            "SVM Accuracy: 0.8392297357814599\n",
            "SVM Confusion Matrix:\n",
            "[[979 187]\n",
            " [172 895]]\n"
          ]
        }
      ]
    },
    {
      "cell_type": "code",
      "source": [
        "class_report_svm = classification_report(y_test, y_pred_svm)\n",
        "print(\"SVM Classification Report:\")\n",
        "print(class_report_svm)\n",
        "\n",
        "# Plot confusion matrix\n",
        "ConfusionMatrixDisplay.from_estimator(loaded_model, X_test_scaled, y_test)\n",
        "plt.show()"
      ],
      "metadata": {
        "id": "86SkM0QQyIgF",
        "colab": {
          "base_uri": "https://localhost:8080/",
          "height": 623
        },
        "outputId": "ffb400ab-d2f0-46af-b057-6413e030e3e3"
      },
      "execution_count": 7,
      "outputs": [
        {
          "output_type": "stream",
          "name": "stdout",
          "text": [
            "SVM Classification Report:\n",
            "              precision    recall  f1-score   support\n",
            "\n",
            "       False       0.85      0.84      0.85      1166\n",
            "        True       0.83      0.84      0.83      1067\n",
            "\n",
            "    accuracy                           0.84      2233\n",
            "   macro avg       0.84      0.84      0.84      2233\n",
            "weighted avg       0.84      0.84      0.84      2233\n",
            "\n"
          ]
        },
        {
          "output_type": "display_data",
          "data": {
            "text/plain": [
              "<Figure size 640x480 with 2 Axes>"
            ],
            "image/png": "[encoded data removed]"
          },
          "metadata": {}
        }
      ]
    },
    {
      "cell_type": "code",
      "source": [
        "y_test_binary = y_test.astype(int)\n",
        "y_pred_binary = pd.Series(y_pred_svm).astype(int)\n",
        "\n",
        "# Create predictions dataframe\n",
        "predictions_df = pd.DataFrame({\n",
        "    'Actual': y_test_binary.reset_index(drop=True),\n",
        "    'Predicted': y_pred_binary\n",
        "})\n",
        "\n",
        "# Save predictions to CSV\n",
        "predictions_df.to_csv('predictions.csv', index=False)\n",
        "print(\"Predictions telah disimpan ke 'predictions.csv'\")\n",
        "\n",
        "# Download the file\n",
        "files.download('predictions.csv')"
      ],
      "metadata": {
        "colab": {
          "base_uri": "https://localhost:8080/",
          "height": 34
        },
        "id": "CYcWBPnbybqT",
        "outputId": "7fdb2884-d86e-4c11-f8c9-4ad5c16698fb"
      },
      "execution_count": 9,
      "outputs": [
        {
          "output_type": "stream",
          "name": "stdout",
          "text": [
            "Predictions telah disimpan ke 'predictions.csv'\n"
          ]
        },
        {
          "output_type": "display_data",
          "data": {
            "text/plain": [
              "<IPython.core.display.Javascript object>"
            ],
            "application/javascript": [
              "\n",
              "    async function download(id, filename, size) {\n",
              "      if (!google.colab.kernel.accessAllowed) {\n",
              "        return;\n",
              "      }\n",
              "      const div = document.createElement('div');\n",
              "      const label = document.createElement('label');\n",
              "      label.textContent = `Downloading \"${filename}\": `;\n",
              "      div.appendChild(label);\n",
              "      const progress = document.createElement('progress');\n",
              "      progress.max = size;\n",
              "      div.appendChild(progress);\n",
              "      document.body.appendChild(div);\n",
              "\n",
              "      const buffers = [];\n",
              "      let downloaded = 0;\n",
              "\n",
              "      const channel = await google.colab.kernel.comms.open(id);\n",
              "      // Send a message to notify the kernel that we're ready.\n",
              "      channel.send({})\n",
              "\n",
              "      for await (const message of channel.messages) {\n",
              "        // Send a message to notify the kernel that we're ready.\n",
              "        channel.send({})\n",
              "        if (message.buffers) {\n",
              "          for (const buffer of message.buffers) {\n",
              "            buffers.push(buffer);\n",
              "            downloaded += buffer.byteLength;\n",
              "            progress.value = downloaded;\n",
              "          }\n",
              "        }\n",
              "      }\n",
              "      const blob = new Blob(buffers, {type: 'application/binary'});\n",
              "      const a = document.createElement('a');\n",
              "      a.href = window.URL.createObjectURL(blob);\n",
              "      a.download = filename;\n",
              "      div.appendChild(a);\n",
              "      a.click();\n",
              "      div.remove();\n",
              "    }\n",
              "  "
            ]
          },
          "metadata": {}
        },
        {
          "output_type": "display_data",
          "data": {
            "text/plain": [
              "<IPython.core.display.Javascript object>"
            ],
            "application/javascript": [
              "download(\"download_438d71dd-3742-4770-893a-d30c13a17659\", \"predictions.csv\", 8949)"
            ]
          },
          "metadata": {}
        }
      ]
    }
  ]
}